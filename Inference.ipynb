{
  "nbformat": 4,
  "nbformat_minor": 0,
  "metadata": {
    "colab": {
      "provenance": []
    },
    "kernelspec": {
      "name": "python3",
      "display_name": "Python 3"
    },
    "language_info": {
      "name": "python"
    }
  },
  "cells": [
    {
      "cell_type": "code",
      "execution_count": 1,
      "metadata": {
        "id": "6YXJKm-SVdBi"
      },
      "outputs": [],
      "source": [
        "\n",
        "import torch\n",
        "import torch.nn as nn\n",
        "import torch.nn.functional as F\n",
        "import torch.optim as optim\n",
        "\n",
        "\n",
        "%matplotlib inline\n",
        "import matplotlib.pyplot as plt\n",
        "\n",
        "import pandas as pd\n",
        "import numpy as np\n",
        "import json"
      ]
    },
    {
      "cell_type": "code",
      "source": [
        "train = [2, 4, 6, 8, 10, 12, 14, 16, 18, 20, 22, 24, 26, 28, 30, 32, 34, 36, 38, 40, 42, 44, 46, 48, 50, 52, 54, 56, 58, 60, 62, 64, 66, 68, 70, 72, 74, 76, 78, 80, 82, 84, 86, 88, 90, 92, 94, 96, 98, 100, 102, 104, 106, 108, 110, 112, 114, 116, 118, 120, 122, 124, 126, 128, 130, 132, 134, 136, 138, 140, 142, 144, 146, 148, 150, 152, 154, 156, 158, 160, 162, 164, 166, 168, 170, 172, 174, 176, 178, 180, 182, 184, 186, 188, 190, 192, 194, 196, 198, 200, 202]\n",
        "validation =  [3, 7, 11, 15, 19, 23, 27, 31, 35, 39, 43, 47, 51, 55, 59, 63, 67, 71, 75, 79, 83, 87, 91, 95, 99, 103, 107, 111, 115, 119, 123, 127, 131, 135, 139, 143, 147, 151, 155, 159, 163, 167, 171, 175, 179, 183, 187, 191, 195, 199]\n",
        "test = [5, 9, 13, 17, 21, 25, 29, 33, 37, 41, 45, 49, 53, 57, 61, 65, 69, 73, 77, 81, 85, 89, 93, 97, 101, 105, 109, 113, 117, 121, 125, 129, 133, 137, 141, 145, 149, 153, 157, 161, 165, 169, 173, 177, 181, 185, 189, 193, 197, 201]\n"
      ],
      "metadata": {
        "id": "cmizslXLVjw3"
      },
      "execution_count": 2,
      "outputs": []
    },
    {
      "cell_type": "code",
      "source": [
        "acc_data = pd.read_csv('eval_acc.csv')\n",
        "test_data = acc_data.iloc[test]\n",
        "test_data = test_data.dropna()\n",
        "#rows with nan values dropped\n"
      ],
      "metadata": {
        "id": "vMp7GXbLVkJR"
      },
      "execution_count": 8,
      "outputs": []
    },
    {
      "cell_type": "code",
      "source": [
        "class MyModel(nn.Module):\n",
        "    def __init__(self, input_size, hidden_size, output_size):\n",
        "        super(MyModel, self).__init__()\n",
        "        self.hidden_size = hidden_size\n",
        "        self.rnn = nn.RNN(input_size, hidden_size, 2,batch_first=True)\n",
        "        self.fc = nn.Linear(hidden_size, 32)\n",
        "        self.fc2 = nn.Linear(32,16)\n",
        "        self.fc3 = nn.Linear(16,output_size)\n",
        "    \n",
        "    def forward(self, input):\n",
        "        batch_size = input.size(0)\n",
        "        hidden = self.init_hidden(batch_size)\n",
        "        output, hidden = self.rnn(input, hidden)\n",
        "        #print(output,hidden)\n",
        "        output = nn.ReLU()(self.fc(output))\n",
        "        output = nn.ReLU()(self.fc2(output))\n",
        "        output = self.fc3(output)\n",
        "        return output\n",
        "    \n",
        "    def init_hidden(self, batch_size):\n",
        "        '''\n",
        "        To initialize hidden state\n",
        "        '''\n",
        "        hidden = torch.zeros(2, batch_size, self.hidden_size)  \n",
        "        return hidden\n",
        "\n",
        "\n",
        "input_size = 9\n",
        "#hidden_size = 64\n",
        "hidden_size = 12\n",
        "output_size = 1\n",
        "# sequence_length = 9\n",
        "batch_size = 32  \n",
        "\n",
        "model = MyModel(input_size, hidden_size, output_size)"
      ],
      "metadata": {
        "id": "hYzXzxilV8BM"
      },
      "execution_count": 9,
      "outputs": []
    },
    {
      "cell_type": "code",
      "source": [
        "model.load_state_dict(torch.load('/content/new_best_model_rmse.pth'))"
      ],
      "metadata": {
        "colab": {
          "base_uri": "https://localhost:8080/"
        },
        "id": "AaMy1bCWWHmH",
        "outputId": "ce10f959-6629-447b-b805-0bc2d2f342d4"
      },
      "execution_count": 10,
      "outputs": [
        {
          "output_type": "execute_result",
          "data": {
            "text/plain": [
              "<All keys matched successfully>"
            ]
          },
          "metadata": {},
          "execution_count": 10
        }
      ]
    },
    {
      "cell_type": "code",
      "source": [
        "## can change the values of E and M, E>M minimum value of E = 5\n",
        "\n",
        "E = 10\n",
        "M = 150\n",
        "\n",
        "task_set = test_data.iloc[:,0:4+E]\n",
        "fixed = torch.Tensor(task_set.iloc[:,0:4].values)\n",
        "sequence = torch.Tensor(task_set.iloc[:,-5:].values)"
      ],
      "metadata": {
        "id": "y9khuEuuWLQB"
      },
      "execution_count": 17,
      "outputs": []
    },
    {
      "cell_type": "code",
      "source": [
        "model.eval()\n",
        "with torch.no_grad():\n",
        "  for i in range(E+1,M+1):\n",
        "      new_pred = model(torch.cat((fixed.unsqueeze(1),sequence.unsqueeze(1)),dim = 2))\n",
        "      sequence = torch.cat((sequence[:,1:],new_pred.squeeze(2)),dim = 1)"
      ],
      "metadata": {
        "id": "sbadquugWwqf"
      },
      "execution_count": 22,
      "outputs": []
    },
    {
      "cell_type": "code",
      "source": [
        "# output for all the test set\n",
        "# to accomodate all the values of E without errors for the user, rows with nan values are dropped\n",
        "print(new_pred.squeeze(1).squeeze(1))"
      ],
      "metadata": {
        "colab": {
          "base_uri": "https://localhost:8080/"
        },
        "id": "Jmc4_27QXPIK",
        "outputId": "14d94093-c0e9-4a19-f673-8e6f69c01070"
      },
      "execution_count": 24,
      "outputs": [
        {
          "output_type": "stream",
          "name": "stdout",
          "text": [
            "tensor([0.4732, 0.4262, 0.7145, 0.5011, 0.4287, 1.0939, 0.8820, 0.6598, 1.1572,\n",
            "        1.1425, 0.9642, 1.1614, 1.1853, 1.1883, 0.6980, 0.5387, 0.5623, 0.7491,\n",
            "        0.5401, 0.5528, 0.8386, 0.5985, 0.6016, 0.5529, 0.6018, 0.6216, 0.6126,\n",
            "        0.6027, 0.6236, 0.6146, 0.6052, 0.6301, 0.6212, 0.6066, 0.6345, 0.6258,\n",
            "        0.6083, 0.6471, 0.6405, 0.6069, 0.6549, 0.6503, 0.5600, 0.6848, 0.7009,\n",
            "        0.6037, 0.6897, 0.5785, 0.6896])\n"
          ]
        }
      ]
    },
    {
      "cell_type": "code",
      "source": [],
      "metadata": {
        "id": "jz9j2WIQXQBt"
      },
      "execution_count": null,
      "outputs": []
    }
  ]
}