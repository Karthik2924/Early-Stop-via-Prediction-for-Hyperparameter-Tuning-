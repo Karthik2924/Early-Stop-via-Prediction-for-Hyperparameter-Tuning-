{
  "cells": [
    {
      "cell_type": "code",
      "execution_count": 84,
      "metadata": {
        "id": "BH7ZjlDvLG1q"
      },
      "outputs": [],
      "source": [
        "\n",
        "import torch\n",
        "import torch.nn as nn\n",
        "import torch.nn.functional as F\n",
        "import torch.optim as optim\n",
        "\n",
        "\n",
        "%matplotlib inline\n",
        "import matplotlib.pyplot as plt\n",
        "\n"
      ]
    },
    {
      "cell_type": "markdown",
      "metadata": {
        "id": "RyfIgoYnLG1s"
      },
      "source": [
        "# Early Stop via Prediction for Hyperparameter Tuning\n",
        "\n",
        "## Introduction\n",
        "\n",
        "DNN model training takes time. In hyperparameter tuning (i.e., finding the best values for some hyperparameters for a DNN model), we would need to train the DNN model repeatedly on each of the hyperparameter values and run the test. It would take even more time.\n",
        "\n",
        "The objective of this project is to see whether we can predict the final accuracy of a DNN model for given hyperparameters values, without training the DNN model completely. In another word, can we tell how good the hyperparamter values are by just observing the results in the first small number of training eporches of the DNN model? If we can do that, it can save a lot of time in hyperparameter tuning. \n",
        " \n",
        "The method we want to try in this project is to build a Machine Learning model (called accModel) to make the prediction. For a given DNN X and a set of k hyperparameters H=<h1, h2, ..., hk> to tune, the input to the accModel includes (i) a sample hyperparameter vector Hi=<h1i, h2i, ..., hki>, where hki is the sample value of the kth hyperparameter; (ii) the observed training and validation loss values and accuracy values in the first E eporchs; (iii) a positive integer M (M>E). The output of the accModel is the predicted validation accuracy of DNN X after M eporchs of training with Hi as the hyperparameter vector. \n",
        "\n",
        "## Dataset\n",
        "\n",
        "The provided dataset were obtained by training **<u>CifarNet</u>** on the **Cifar-10** dataset. *CifarNet* contains two convolutional layers. There are two hyperparameters, ***L*** and ***H***, at each of the two convolutional layers. So there are four hyperparameters in the hyperparameter vector of *CifarNet*: <L1, H1, L2, H2>. \n",
        "\n",
        "* HP_space.csv: the sampled hyperparameter vector values. \n",
        "\n",
        "* train_loss.csv: the **training loss values**. The file is organized as follows:\n",
        "\n",
        "  - Each row gives the observations on *CifarNet* on one sampled hyperparameter vector.  \n",
        "  - The first 4 columns indicate the hyperparameter vector value (it's the same as in `HP_space.csv`). \n",
        "  - The following columns show the training losses. 150 epochs are recorded, and each epoch contains 50 mini-batches.\n",
        "\n",
        "* eval_loss.csv: the **validation loss values** of *CifarNet*. It is in a similar format as `train_loss.csv`, but reports only one loss in each epoch.\n",
        "\n",
        "* eval_acc.csv: the **validation accuracies** of *CifarNet*. It is in a similar format as `train_loss.csv`, but reports only one accuracy in each epoch.\n",
        "\n",
        "* dataPartition.txt: the samples (i.e., line numbers in the above data files) to be used as training dataset, validation dataset, and test dataset for the development of accModel.\n",
        "\n",
        "## Requirement\n",
        "\n",
        "* Create one (or more) accModel that can achieve the objective\n",
        "* Report the accuracies of the eval_acc of *CifarNet* predicted by the accModel on the test dataset in the following settings: (E=5, M=150), (E=10, M=150), (E=20, M=150), (E=30, M=150), (E=60, M=150). \n",
        "* Put your code in a Github repository. Organize it well with the necessary README, stating the content of the repository, instructions on how to install and run, and any known limitations. The repository should be made easy for others to reproduce your testing results without retraining the models, and at the same, include the necessary scripts and instructions for reproducing the training process if the users want to do that. \n",
        "\n",
        "## Q & A:\n",
        "* What to submit? \n",
        "  - A PPT file clearly explaining your results and observations, and include the github link.\n",
        "* What models to use?\n",
        "  - No restrictions.\n",
        "* What DNN frameworks to use? \n",
        "  - TensorFlow or PyTorch\n",
        "\n",
        "\n",
        "\n"
      ]
    },
    {
      "cell_type": "markdown",
      "source": [
        "## Training"
      ],
      "metadata": {
        "id": "LZqZuq_3X5gZ"
      }
    },
    {
      "cell_type": "code",
      "execution_count": 2,
      "metadata": {
        "id": "eMGKII3lLG1u"
      },
      "outputs": [],
      "source": [
        "import pandas as pd\n",
        "import numpy as np\n",
        "import json"
      ]
    },
    {
      "cell_type": "code",
      "execution_count": 3,
      "metadata": {
        "id": "gAqREAySLG1u"
      },
      "outputs": [],
      "source": [
        "train = [2, 4, 6, 8, 10, 12, 14, 16, 18, 20, 22, 24, 26, 28, 30, 32, 34, 36, 38, 40, 42, 44, 46, 48, 50, 52, 54, 56, 58, 60, 62, 64, 66, 68, 70, 72, 74, 76, 78, 80, 82, 84, 86, 88, 90, 92, 94, 96, 98, 100, 102, 104, 106, 108, 110, 112, 114, 116, 118, 120, 122, 124, 126, 128, 130, 132, 134, 136, 138, 140, 142, 144, 146, 148, 150, 152, 154, 156, 158, 160, 162, 164, 166, 168, 170, 172, 174, 176, 178, 180, 182, 184, 186, 188, 190, 192, 194, 196, 198, 200, 202]\n",
        "validation =  [3, 7, 11, 15, 19, 23, 27, 31, 35, 39, 43, 47, 51, 55, 59, 63, 67, 71, 75, 79, 83, 87, 91, 95, 99, 103, 107, 111, 115, 119, 123, 127, 131, 135, 139, 143, 147, 151, 155, 159, 163, 167, 171, 175, 179, 183, 187, 191, 195, 199]\n",
        "test = [5, 9, 13, 17, 21, 25, 29, 33, 37, 41, 45, 49, 53, 57, 61, 65, 69, 73, 77, 81, 85, 89, 93, 97, 101, 105, 109, 113, 117, 121, 125, 129, 133, 137, 141, 145, 149, 153, 157, 161, 165, 169, 173, 177, 181, 185, 189, 193, 197, 201]\n"
      ]
    },
    {
      "cell_type": "code",
      "execution_count": 4,
      "metadata": {
        "id": "u73gKb4fLG1v"
      },
      "outputs": [],
      "source": [
        "acc_data = pd.read_csv('eval_acc.csv')\n",
        "loss_data = pd.read_csv('eval_loss.csv')\n"
      ]
    },
    {
      "cell_type": "code",
      "execution_count": 5,
      "metadata": {
        "id": "srKVurPhLG1v"
      },
      "outputs": [],
      "source": [
        "train_data = acc_data.iloc[train]\n",
        "test_data = acc_data.iloc[test]"
      ]
    },
    {
      "cell_type": "code",
      "execution_count": 6,
      "metadata": {
        "id": "prd2bOmnLG1w"
      },
      "outputs": [],
      "source": [
        "from sklearn.preprocessing import MinMaxScaler\n",
        "\n",
        "scaler = MinMaxScaler()\n",
        "\n",
        "def scale(x):\n",
        "    return scaler.fit_transform(x)\n",
        "\n",
        "acc_data.iloc[:,0:4] = scale(acc_data.iloc[:,0:4])"
      ]
    },
    {
      "cell_type": "code",
      "execution_count": 7,
      "metadata": {
        "id": "Kg-ldx_wLG1w"
      },
      "outputs": [],
      "source": [
        "from torch.utils.data import TensorDataset, DataLoader\n",
        "def process(data,block_size,split,batch_size):\n",
        "    data_split = data.iloc[split]\n",
        "    #block_size = 5\n",
        "    X, Y = [],[]\n",
        "    for row in range(data_split.shape[0]):\n",
        "        hyp = list(data_split.iloc[row,0:4])\n",
        "\n",
        "        for i in range(4,data_split.shape[1]-block_size):\n",
        "            seq = list(data_split.iloc[row,i:i+block_size+1])\n",
        "            if np.isnan(seq).any():\n",
        "                break\n",
        "            X.append(hyp + seq[:-1])\n",
        "            Y.append(seq[-1])\n",
        "    #batch_size = 32\n",
        "    dataset = TensorDataset(torch.Tensor(X),torch.Tensor(Y))\n",
        "    return DataLoader(dataset,batch_size=batch_size,shuffle=True)"
      ]
    },
    {
      "cell_type": "code",
      "execution_count": 8,
      "metadata": {
        "id": "MmA4hdMSLG1w"
      },
      "outputs": [],
      "source": [
        "test_loader = process(acc_data,5,test,32)\n",
        "train_loader = process(acc_data,5,train,32)\n",
        "val_loader = process(acc_data,5,validation,32)"
      ]
    },
    {
      "cell_type": "code",
      "execution_count": 9,
      "metadata": {
        "id": "M2DTn4tmLG1y"
      },
      "outputs": [],
      "source": [
        "import torch\n",
        "import torch.nn as nn\n",
        "\n",
        "# class MyModel(nn.Module):\n",
        "#     def __init__(self, input_size, hidden_size, output_size):\n",
        "#         super(MyModel, self).__init__()\n",
        "#         self.hidden_size = hidden_size\n",
        "#         self.rnn = nn.RNN(input_size, hidden_size, batch_first=True)\n",
        "#         self.fc = nn.Linear(hidden_size, 32)\n",
        "#         self.fc2 = nn.Linear(32,16)\n",
        "#         self.fc3 = nn.Linear(16,output_size)\n",
        "    \n",
        "#     def forward(self, input):\n",
        "#         batch_size = input.size(0)\n",
        "#         hidden = self.init_hidden(batch_size)\n",
        "#         output, hidden = self.rnn(input, hidden)\n",
        "#         #print(output,hidden)\n",
        "#         output = nn.ReLU()(self.fc(output))\n",
        "#         output = nn.ReLU()(self.fc2(output))\n",
        "#         output = self.fc3(output)\n",
        "#         return output\n",
        "    \n",
        "#     def init_hidden(self, batch_size):\n",
        "#         hidden = torch.zeros(1, batch_size, self.hidden_size)  # Assuming single layer RNN\n",
        "#         return hidden\n",
        "\n",
        "class MyModel(nn.Module):\n",
        "    def __init__(self, input_size, hidden_size, output_size):\n",
        "        super(MyModel, self).__init__()\n",
        "        self.hidden_size = hidden_size\n",
        "        self.rnn = nn.RNN(input_size, hidden_size, 2,batch_first=True)\n",
        "        self.fc = nn.Linear(hidden_size, 32)\n",
        "        self.fc2 = nn.Linear(32,16)\n",
        "        self.fc3 = nn.Linear(16,output_size)\n",
        "    \n",
        "    def forward(self, input):\n",
        "        batch_size = input.size(0)\n",
        "        hidden = self.init_hidden(batch_size)\n",
        "        output, hidden = self.rnn(input, hidden)\n",
        "        #print(output,hidden)\n",
        "        output = nn.ReLU()(self.fc(output))\n",
        "        output = nn.ReLU()(self.fc2(output))\n",
        "        output = self.fc3(output)\n",
        "        return output\n",
        "    \n",
        "    def init_hidden(self, batch_size):\n",
        "        '''\n",
        "        To initialize hidden state\n",
        "        '''\n",
        "        hidden = torch.zeros(2, batch_size, self.hidden_size)  \n",
        "        return hidden\n",
        "\n",
        "\n",
        "input_size = 9\n",
        "#hidden_size = 64\n",
        "hidden_size = 12\n",
        "output_size = 1\n",
        "# sequence_length = 9\n",
        "batch_size = 32  \n",
        "\n",
        "model = MyModel(input_size, hidden_size, output_size)\n",
        "\n",
        "\n"
      ]
    },
    {
      "cell_type": "code",
      "execution_count": 10,
      "metadata": {
        "id": "Nwy5QK7dLG1y"
      },
      "outputs": [],
      "source": [
        "def evaluate(data_loader,loss_function,model):\n",
        "    total_loss = 0\n",
        "    with torch.no_grad():\n",
        "        model.eval()\n",
        "        for data,target in data_loader:\n",
        "            output = model(data.unsqueeze(1))\n",
        "            loss = loss_function(output.squeeze(1),target.unsqueeze(1))\n",
        "            total_loss+=loss.item()\n",
        "        avg_loss = total_loss/len(data_loader)\n",
        "        #print(f\"avg loss = {total_loss/len(data_loader)}\")\n",
        "    return avg_loss"
      ]
    },
    {
      "cell_type": "code",
      "execution_count": 11,
      "metadata": {
        "id": "C59GhfRMLG1z"
      },
      "outputs": [],
      "source": [
        "class RMSELoss(nn.Module):\n",
        "    def __init__(self):\n",
        "        super().__init__()\n",
        "        self.mse = nn.MSELoss()\n",
        "        \n",
        "    def forward(self,yhat,y):\n",
        "        return torch.sqrt(self.mse(yhat,y))\n"
      ]
    },
    {
      "cell_type": "code",
      "execution_count": 12,
      "metadata": {
        "colab": {
          "base_uri": "https://localhost:8080/"
        },
        "id": "6yw_aAOYLG1z",
        "outputId": "7905ae13-7634-44a2-e359-dc7f41e306e6"
      },
      "outputs": [
        {
          "output_type": "stream",
          "name": "stdout",
          "text": [
            "avg training loss = 0.059481971682264254\n",
            "avg validation loss = 0.011085360509954754\n",
            "model checkpoint saved\n",
            "avg training loss = 0.00983529021697385\n",
            "avg validation loss = 0.009739419972597895\n",
            "model checkpoint saved\n",
            "avg training loss = 0.009474704945766991\n",
            "avg validation loss = 0.008874431291455608\n",
            "model checkpoint saved\n",
            "avg training loss = 0.008985737640062694\n",
            "avg validation loss = 0.008398881584143323\n",
            "model checkpoint saved\n",
            "avg training loss = 0.008613968794080582\n",
            "avg validation loss = 0.010945354487812598\n",
            "avg training loss = 0.008354009656685885\n",
            "avg validation loss = 0.007686650388697695\n",
            "model checkpoint saved\n",
            "avg training loss = 0.008005612239159726\n",
            "avg validation loss = 0.008012449973989031\n",
            "avg training loss = 0.007619697199417994\n",
            "avg validation loss = 0.007296675340260178\n",
            "model checkpoint saved\n",
            "avg training loss = 0.007387537584936881\n",
            "avg validation loss = 0.008652626309084342\n",
            "avg training loss = 0.007630824633352049\n",
            "avg validation loss = 0.007330614812918303\n",
            "avg training loss = 0.007062984903721692\n",
            "avg validation loss = 0.00788598664367514\n",
            "avg training loss = 0.007195210687631925\n",
            "avg validation loss = 0.006897674666282758\n",
            "model checkpoint saved\n",
            "avg training loss = 0.007045612983651214\n",
            "avg validation loss = 0.007293009266897314\n",
            "avg training loss = 0.007168810990649265\n",
            "avg validation loss = 0.00684110667466264\n",
            "model checkpoint saved\n",
            "avg training loss = 0.007065614446956706\n",
            "avg validation loss = 0.006896761722969392\n",
            "avg training loss = 0.006835316332405085\n",
            "avg validation loss = 0.006706859087694584\n",
            "model checkpoint saved\n",
            "avg training loss = 0.0070381550133678614\n",
            "avg validation loss = 0.006751433706181822\n",
            "avg training loss = 0.006898961741231628\n",
            "avg validation loss = 0.006795074044017015\n",
            "avg training loss = 0.0070320690828529035\n",
            "avg validation loss = 0.007321492426245092\n",
            "avg training loss = 0.006825544745507803\n",
            "avg validation loss = 0.00862845042228108\n",
            "avg training loss = 0.006894719735258719\n",
            "avg validation loss = 0.0068888485827585805\n",
            "avg training loss = 0.006944572363703788\n",
            "avg validation loss = 0.011801779487617478\n",
            "avg training loss = 0.0068588247277088215\n",
            "avg validation loss = 0.00867881035711206\n",
            "avg training loss = 0.006914767246836653\n",
            "avg validation loss = 0.007429037854436473\n",
            "avg training loss = 0.006804371651794229\n",
            "avg validation loss = 0.0068218284973768015\n",
            "avg training loss = 0.006742590491322207\n",
            "avg validation loss = 0.006744539576463631\n",
            "avg training loss = 0.006656344754846542\n",
            "avg validation loss = 0.0067084053293330025\n",
            "avg training loss = 0.006835942962565101\n",
            "avg validation loss = 0.007713005953931993\n",
            "avg training loss = 0.006679674644780519\n",
            "avg validation loss = 0.00842100863718317\n",
            "avg training loss = 0.006898916189323415\n",
            "avg validation loss = 0.007011097131731883\n",
            "avg training loss = 0.006845521081525546\n",
            "avg validation loss = 0.006611144237860315\n",
            "model checkpoint saved\n",
            "avg training loss = 0.006811580529620687\n",
            "avg validation loss = 0.006714561896702266\n",
            "avg training loss = 0.006871910352812528\n",
            "avg validation loss = 0.007789801720053877\n",
            "avg training loss = 0.006932261252038918\n",
            "avg validation loss = 0.006674440924307979\n",
            "avg training loss = 0.006803958705923223\n",
            "avg validation loss = 0.007500688233597425\n",
            "avg training loss = 0.006844107300084043\n",
            "avg validation loss = 0.006671885635687391\n",
            "avg training loss = 0.006665913552393789\n",
            "avg validation loss = 0.006958380505639551\n",
            "avg training loss = 0.006642475661790961\n",
            "avg validation loss = 0.007794628003899353\n",
            "avg training loss = 0.006890598231169221\n",
            "avg validation loss = 0.006640613758074948\n",
            "avg training loss = 0.00677835776030526\n",
            "avg validation loss = 0.006681144036483923\n",
            "avg training loss = 0.006139041796060545\n",
            "avg validation loss = 0.00655666624589737\n",
            "model checkpoint saved\n",
            "avg training loss = 0.006154766556510067\n",
            "avg validation loss = 0.006726918941043678\n",
            "avg training loss = 0.006133755322566235\n",
            "avg validation loss = 0.0065505726012659755\n",
            "model checkpoint saved\n",
            "avg training loss = 0.006157252493897801\n",
            "avg validation loss = 0.006500004899446003\n",
            "model checkpoint saved\n",
            "avg training loss = 0.006119613751646254\n",
            "avg validation loss = 0.006473499647698607\n",
            "model checkpoint saved\n",
            "avg training loss = 0.006138915994337627\n",
            "avg validation loss = 0.006447765212054754\n",
            "model checkpoint saved\n",
            "avg training loss = 0.006140733525095569\n",
            "avg validation loss = 0.006586362309302593\n",
            "avg training loss = 0.006102784177554505\n",
            "avg validation loss = 0.006679314973308717\n",
            "avg training loss = 0.006112679807407843\n",
            "avg validation loss = 0.006603492278244658\n",
            "avg training loss = 0.006126047041942621\n",
            "avg validation loss = 0.006413360510948668\n",
            "model checkpoint saved\n",
            "avg training loss = 0.0061427753096303115\n",
            "avg validation loss = 0.0066342391494234884\n",
            "avg training loss = 0.0061437491470804585\n",
            "avg validation loss = 0.00644941161907717\n",
            "avg training loss = 0.006127863423898816\n",
            "avg validation loss = 0.006458267560310761\n",
            "avg training loss = 0.0061071816453157545\n",
            "avg validation loss = 0.006492255109932585\n",
            "avg training loss = 0.006107357668352651\n",
            "avg validation loss = 0.006465030199179368\n",
            "avg training loss = 0.006116366494897303\n",
            "avg validation loss = 0.00670097796205382\n",
            "avg training loss = 0.006100916036066937\n",
            "avg validation loss = 0.006436420367653215\n",
            "avg training loss = 0.006092798349109816\n",
            "avg validation loss = 0.00649429912605048\n",
            "avg training loss = 0.006097171798982955\n",
            "avg validation loss = 0.006542359680831761\n",
            "avg training loss = 0.006118857829862243\n",
            "avg validation loss = 0.0067482648811216924\n",
            "avg training loss = 0.006127818733719843\n",
            "avg validation loss = 0.006507915345180599\n",
            "avg training loss = 0.006102801279604927\n",
            "avg validation loss = 0.006613202302794625\n",
            "avg training loss = 0.006116980795779234\n",
            "avg validation loss = 0.006515600556499501\n",
            "avg training loss = 0.006098449626773759\n",
            "avg validation loss = 0.006611291304772252\n",
            "avg training loss = 0.006114230058309468\n",
            "avg validation loss = 0.0064474650636102\n",
            "avg training loss = 0.006100817609087124\n",
            "avg validation loss = 0.0065242143220674365\n",
            "avg training loss = 0.006086975561229737\n",
            "avg validation loss = 0.006432526545919117\n",
            "avg training loss = 0.006108735805213615\n",
            "avg validation loss = 0.006487574073432694\n",
            "avg training loss = 0.006090959398444374\n",
            "avg validation loss = 0.006765303085045273\n",
            "avg training loss = 0.0061198747895944575\n",
            "avg validation loss = 0.006487361664190429\n",
            "avg training loss = 0.006092458206054929\n",
            "avg validation loss = 0.006475682769356386\n",
            "avg training loss = 0.006099909156622303\n",
            "avg validation loss = 0.006434894249967345\n",
            "avg training loss = 0.0061014677582124435\n",
            "avg validation loss = 0.006480235536685337\n",
            "avg training loss = 0.006097796586966449\n",
            "avg validation loss = 0.006452044044387433\n",
            "avg training loss = 0.0060861857715421\n",
            "avg validation loss = 0.006646827161763405\n",
            "avg training loss = 0.006114487842769249\n",
            "avg validation loss = 0.0064943707024982195\n",
            "avg training loss = 0.00609427543694747\n",
            "avg validation loss = 0.006515826197086715\n",
            "avg training loss = 0.006094636312163957\n",
            "avg validation loss = 0.006478792289271951\n",
            "avg training loss = 0.006103540638686864\n",
            "avg validation loss = 0.006521563271331367\n",
            "avg training loss = 0.006089186754364234\n",
            "avg validation loss = 0.0065025428960321366\n",
            "avg training loss = 0.006070181592828134\n",
            "avg validation loss = 0.0064865676563085435\n",
            "avg training loss = 0.0060875242842095235\n",
            "avg validation loss = 0.006503206400799725\n",
            "avg training loss = 0.006102391423985034\n",
            "avg validation loss = 0.0064657411203690954\n",
            "avg training loss = 0.006060952547896695\n",
            "avg validation loss = 0.006541289812741629\n",
            "avg training loss = 0.006078736291133932\n",
            "avg validation loss = 0.006500812717159545\n",
            "avg training loss = 0.0060651745115007675\n",
            "avg validation loss = 0.006585472190572105\n",
            "avg training loss = 0.006093205958809499\n",
            "avg validation loss = 0.006545348789354187\n",
            "avg training loss = 0.0060877284147664084\n",
            "avg validation loss = 0.0064851539127430205\n",
            "avg training loss = 0.006096375207570228\n",
            "avg validation loss = 0.006453206825238296\n",
            "avg training loss = 0.006091675747206414\n",
            "avg validation loss = 0.006492403917433078\n",
            "avg training loss = 0.006079170299734879\n",
            "avg validation loss = 0.006529011553366738\n",
            "avg training loss = 0.006102136592124845\n",
            "avg validation loss = 0.006611651658913375\n",
            "avg training loss = 0.0060876431491144085\n",
            "avg validation loss = 0.006652287736797648\n",
            "avg training loss = 0.006115242223265571\n",
            "avg validation loss = 0.006504160196147039\n",
            "avg training loss = 0.006081878480880143\n",
            "avg validation loss = 0.006500298075279475\n",
            "avg training loss = 0.006096600751382309\n",
            "avg validation loss = 0.0065907387161373045\n",
            "avg training loss = 0.006071049915524302\n",
            "avg validation loss = 0.00649965131995863\n",
            "avg training loss = 0.006083062506577634\n",
            "avg validation loss = 0.006508129994520335\n",
            "avg training loss = 0.006066986231215216\n",
            "avg validation loss = 0.006451567623657605\n",
            "avg training loss = 0.0060616078008744086\n",
            "avg validation loss = 0.006531063821125727\n"
          ]
        }
      ],
      "source": [
        "learning_rate = 0.001\n",
        "optimizer = torch.optim.Adam(model.parameters(),lr = learning_rate)\n",
        "#loss_function = nn.MSELoss()\n",
        "loss_function = RMSELoss()\n",
        "tloss_logs = []\n",
        "vloss_logs = []\n",
        "epochs = 100\n",
        "best_loss = float('inf')\n",
        "for epoch in range(epochs):\n",
        "    if epoch==40:\n",
        "      learning_rate = 0.0001\n",
        "      optimizer = torch.optim.Adam(model.parameters(),lr = learning_rate)\n",
        "\n",
        "    total_loss = 0\n",
        "    for data,label in train_loader:\n",
        "        optimizer.zero_grad()\n",
        "        output = model(data.unsqueeze(1))\n",
        "        loss = loss_function(output.squeeze(1),label.unsqueeze(1))\n",
        "        loss.backward()\n",
        "        optimizer.step()\n",
        "        total_loss+=loss.item()\n",
        "    avg_loss = total_loss/len(train_loader)\n",
        "    print(f\"avg training loss = {avg_loss}\")\n",
        "    tloss_logs.append(avg_loss)\n",
        "    vloss = evaluate(val_loader,loss_function,model)\n",
        "    print(f\"avg validation loss = {vloss}\")\n",
        "    vloss_logs.append(vloss)\n",
        "    if vloss<best_loss:\n",
        "        best_loss = vloss\n",
        "        torch.save(model.state_dict(),'new_best_model_rmse.pth')\n",
        "        print('model checkpoint saved')\n",
        "    \n"
      ]
    },
    {
      "cell_type": "code",
      "execution_count": 15,
      "metadata": {
        "colab": {
          "base_uri": "https://localhost:8080/",
          "height": 447
        },
        "id": "0Yn97VpGLG10",
        "outputId": "e5cc75c8-b70c-428d-a067-57be37c1aad2"
      },
      "outputs": [
        {
          "output_type": "execute_result",
          "data": {
            "text/plain": [
              "<matplotlib.legend.Legend at 0x7f0891bf77c0>"
            ]
          },
          "metadata": {},
          "execution_count": 15
        },
        {
          "output_type": "display_data",
          "data": {
            "text/plain": [
              "<Figure size 640x480 with 1 Axes>"
            ],
            "image/png": "[encoded data removed]"
          },
          "metadata": {}
        }
      ],
      "source": [
        "plt.plot(tloss_logs,label='training_loss')\n",
        "plt.plot(vloss_logs,label = 'val loss')\n",
        "plt.legend()\n"
      ]
    },
    {
      "cell_type": "code",
      "execution_count": 17,
      "metadata": {
        "colab": {
          "base_uri": "https://localhost:8080/"
        },
        "id": "_W6QjuARLG10",
        "outputId": "61890eec-7b35-441c-9b3c-782dbe2dd92f"
      },
      "outputs": [
        {
          "output_type": "execute_result",
          "data": {
            "text/plain": [
              "<All keys matched successfully>"
            ]
          },
          "metadata": {},
          "execution_count": 17
        }
      ],
      "source": [
        "model.load_state_dict(torch.load('new_best_model_rmse.pth'))"
      ]
    },
    {
      "cell_type": "code",
      "execution_count": 18,
      "metadata": {
        "colab": {
          "base_uri": "https://localhost:8080/"
        },
        "id": "VoQ4980aLG11",
        "outputId": "cacb4fc6-6c12-49fb-d901-7441c14a6410"
      },
      "outputs": [
        {
          "output_type": "stream",
          "name": "stdout",
          "text": [
            "avg loss = 0.005883077617909294\n"
          ]
        }
      ],
      "source": [
        "loss_function = RMSELoss()\n",
        "total_loss = 0\n",
        "with torch.no_grad():\n",
        "    model.eval()\n",
        "    for data,target in test_loader:\n",
        "        output = model(data.unsqueeze(1))\n",
        "        loss = loss_function(output.squeeze(1),target.unsqueeze(1))\n",
        "        total_loss+=loss.item()\n",
        "    print(f\"avg loss = {total_loss/len(test_loader)}\")\n",
        "        \n"
      ]
    },
    {
      "cell_type": "markdown",
      "metadata": {
        "id": "OKowLfnnLG11"
      },
      "source": [
        "## Inference and Evaluation"
      ]
    },
    {
      "cell_type": "code",
      "source": [
        "from sklearn.metrics import r2_score"
      ],
      "metadata": {
        "id": "f41sLdmXOpLv"
      },
      "execution_count": 36,
      "outputs": []
    },
    {
      "cell_type": "code",
      "execution_count": null,
      "metadata": {
        "id": "cnahDQPmLG12",
        "outputId": "6d6eb5f2-684b-4693-e47d-bedd7f23b73a"
      },
      "outputs": [
        {
          "data": {
            "text/plain": [
              "<All keys matched successfully>"
            ]
          },
          "execution_count": 32,
          "metadata": {},
          "output_type": "execute_result"
        }
      ],
      "source": [
        "model = MyModel(9,64,1)\n",
        "model.load_state_dict(torch.load('best_model.pth'))"
      ]
    },
    {
      "cell_type": "code",
      "execution_count": null,
      "metadata": {
        "id": "a3XDU9q5LG12"
      },
      "outputs": [],
      "source": [
        "def process(data,block_size,split,batch_size):\n",
        "    data_split = data.iloc[split]\n",
        "    #block_size = 5\n",
        "    X, Y = [],[]\n",
        "    for row in range(data_split.shape[0]):\n",
        "        hyp = list(data_split.iloc[row,0:4])\n",
        "\n",
        "        for i in range(4,data_split.shape[1]-block_size):\n",
        "            seq = list(data_split.iloc[row,i:i+block_size+1])\n",
        "            if np.isnan(seq).any():\n",
        "                break\n",
        "            X.append(hyp + seq[:-1])\n",
        "            Y.append(seq[-1])\n",
        "    #batch_size = 32\n",
        "    dataset = TensorDataset(torch.Tensor(X),torch.Tensor(Y))\n",
        "    return DataLoader(dataset,batch_size=batch_size,shuffle=True)"
      ]
    },
    {
      "cell_type": "code",
      "execution_count": 19,
      "metadata": {
        "id": "K_7b9GkPLG13"
      },
      "outputs": [],
      "source": [
        "### The first 4 features are already scaled along with the rest of the dataset.\n",
        "## For (E = 5, M = 150)\n",
        "val_set = acc_data.iloc[validation]\n",
        "test_set = acc_data.iloc[test]\n",
        "task1_set = test_set.iloc[:,0:9]\n",
        "fixed = torch.Tensor(task1_set.iloc[:,0:4].values)\n",
        "sequence = torch.Tensor(task1_set.iloc[:,4:].values)"
      ]
    },
    {
      "cell_type": "code",
      "execution_count": 24,
      "metadata": {
        "id": "MxOdGTNoLG14"
      },
      "outputs": [],
      "source": [
        "val_set = acc_data.iloc[validation]\n",
        "test_set = acc_data.iloc[test]\n",
        "## Dropped rows containing NAN values for the final results\n",
        "\n",
        "test_set = test_set.dropna()\n",
        "task1_set = test_set.iloc[:,0:9]\n",
        "fixed = torch.Tensor(task1_set.iloc[:,0:4].values)\n",
        "sequence = torch.Tensor(task1_set.iloc[:,4:].values)"
      ]
    },
    {
      "cell_type": "code",
      "execution_count": null,
      "metadata": {
        "id": "30fpS5-pLG14"
      },
      "outputs": [],
      "source": []
    },
    {
      "cell_type": "code",
      "execution_count": 21,
      "metadata": {
        "id": "TbnSHm5aLG14"
      },
      "outputs": [],
      "source": [
        "fixed = torch.Tensor(task1_set.iloc[:,0:4].values)\n",
        "sequence = torch.Tensor(task1_set.iloc[:,4:].values)\n",
        "model.eval()\n",
        "for i in range(6,151):\n",
        "    new_pred = model(torch.cat((fixed.unsqueeze(1),sequence.unsqueeze(1)),dim = 2))\n",
        "    sequence = torch.cat((sequence[:,1:],new_pred.squeeze(2)),dim = 1)"
      ]
    },
    {
      "cell_type": "code",
      "execution_count": 22,
      "metadata": {
        "colab": {
          "base_uri": "https://localhost:8080/"
        },
        "id": "VaK4pZqrLG14",
        "outputId": "13da6d7b-78db-4452-8c6b-4a59b7cfe907"
      },
      "outputs": [
        {
          "output_type": "execute_result",
          "data": {
            "text/plain": [
              "array([0.7308, 0.7304, 0.686 , 0.7098, 0.7171, 0.6559, 0.6882, 0.7168,\n",
              "       0.644 , 0.6717, 0.6993, 0.609 , 0.6638, 0.7121, 0.6486, 0.7061,\n",
              "       0.7367, 0.6096, 0.7003, 0.7233, 0.5712, 0.7147, 0.5914, 0.6124,\n",
              "       0.6924, 0.7518, 0.7756, 0.6809, 0.7509, 0.781 , 0.6404, 0.763 ,\n",
              "       0.7825, 0.6269, 0.7568, 0.7859, 0.6031, 0.7474, 0.7809, 0.6034,\n",
              "       0.7005, 0.7755, 0.6209, 0.7548, 0.7784, 0.588 , 0.5451, 0.6305,\n",
              "       0.6359])"
            ]
          },
          "metadata": {},
          "execution_count": 22
        }
      ],
      "source": [
        "test_set.iloc[:,-1].values"
      ]
    },
    {
      "cell_type": "code",
      "execution_count": 23,
      "metadata": {
        "colab": {
          "base_uri": "https://localhost:8080/"
        },
        "id": "Vb5dXuonLG14",
        "outputId": "24a8ee12-e83e-452a-90f8-c999c59e445d"
      },
      "outputs": [
        {
          "output_type": "execute_result",
          "data": {
            "text/plain": [
              "tensor([0.7312, 0.7441, 0.6867, 0.7278, 0.7425, 0.6576, 0.7083, 0.7338, 0.6507,\n",
              "        0.6918, 0.7242, 0.6171, 0.6679, 0.7065, 0.5814, 0.7180, 0.7348, 0.5813,\n",
              "        0.7183, 0.7353, 0.5808, 0.7184, 0.5783, 0.5774, 0.7112, 0.7386, 0.7622,\n",
              "        0.7144, 0.7391, 0.7692, 0.7153, 0.7406, 0.7873, 0.7160, 0.7415, 0.7901,\n",
              "        0.7189, 0.7438, 0.7918, 0.7159, 0.7446, 0.7928, 0.5033, 0.7419, 0.7938,\n",
              "        0.5831, 0.5702, 0.6096, 0.5836], grad_fn=<SqueezeBackward1>)"
            ]
          },
          "metadata": {},
          "execution_count": 23
        }
      ],
      "source": [
        "new_pred.squeeze(1).squeeze(1)"
      ]
    },
    {
      "cell_type": "code",
      "execution_count": null,
      "metadata": {
        "id": "Hus9fBzxLG15",
        "outputId": "7d24cc00-2b9f-4715-82fe-db989137e83c"
      },
      "outputs": [
        {
          "data": {
            "text/plain": [
              "tensor(0.0370, grad_fn=<SqrtBackward0>)"
            ]
          },
          "execution_count": 45,
          "metadata": {},
          "output_type": "execute_result"
        }
      ],
      "source": [
        "loss_function(new_pred.squeeze(1),torch.Tensor(test_set.iloc[:,-1].values).unsqueeze(1))"
      ]
    },
    {
      "cell_type": "code",
      "source": [],
      "metadata": {
        "id": "rjFinWL-NVzX"
      },
      "execution_count": 30,
      "outputs": []
    },
    {
      "cell_type": "code",
      "source": [
        "#(E=10,m=150) task 2\n",
        "task2_set = test_set.iloc[:,0:14]\n",
        "fixed = torch.Tensor(task2_set.iloc[:,0:4].values)\n",
        "sequence = torch.Tensor(task2_set.iloc[:,-5:].values)\n",
        "model.eval()\n",
        "for i in range(11,151):\n",
        "    new_pred = model(torch.cat((fixed.unsqueeze(1),sequence.unsqueeze(1)),dim = 2))\n",
        "    sequence = torch.cat((sequence[:,1:],new_pred.squeeze(2)),dim = 1)"
      ],
      "metadata": {
        "id": "oLXEorruNV4K"
      },
      "execution_count": 32,
      "outputs": []
    },
    {
      "cell_type": "code",
      "execution_count": 33,
      "metadata": {
        "colab": {
          "base_uri": "https://localhost:8080/"
        },
        "id": "e7DSPi8_LG15",
        "outputId": "13fc8379-6f6a-44ea-8c51-109c9d4a9e7f"
      },
      "outputs": [
        {
          "output_type": "stream",
          "name": "stdout",
          "text": [
            "[0.7308 0.7304 0.686  0.7098 0.7171 0.6559 0.6882 0.7168 0.644  0.6717\n",
            " 0.6993 0.609  0.6638 0.7121 0.6486 0.7061 0.7367 0.6096 0.7003 0.7233\n",
            " 0.5712 0.7147 0.5914 0.6124 0.6924 0.7518 0.7756 0.6809 0.7509 0.781\n",
            " 0.6404 0.763  0.7825 0.6269 0.7568 0.7859 0.6031 0.7474 0.7809 0.6034\n",
            " 0.7005 0.7755 0.6209 0.7548 0.7784 0.588  0.5451 0.6305 0.6359]\n"
          ]
        }
      ],
      "source": [
        "print(test_set.iloc[:,-1].values)#, new_pred.transpose()"
      ]
    },
    {
      "cell_type": "code",
      "execution_count": 34,
      "metadata": {
        "colab": {
          "base_uri": "https://localhost:8080/"
        },
        "id": "O9TapM3YLG15",
        "outputId": "1657aee5-da23-4328-b2fb-1740239b8f41"
      },
      "outputs": [
        {
          "output_type": "execute_result",
          "data": {
            "text/plain": [
              "tensor([0.7312, 0.7441, 0.6882, 0.7278, 0.7425, 0.6576, 0.7084, 0.7338, 0.6507,\n",
              "        0.6918, 0.7242, 0.6171, 0.6679, 0.7065, 0.6557, 0.7183, 0.7348, 0.5813,\n",
              "        0.7186, 0.7353, 0.5808, 0.7189, 0.5783, 0.5774, 0.7149, 0.7386, 0.7622,\n",
              "        0.7160, 0.7391, 0.7692, 0.7166, 0.7406, 0.7873, 0.7165, 0.7415, 0.7901,\n",
              "        0.7190, 0.7438, 0.7918, 0.7158, 0.7446, 0.7928, 0.5074, 0.7419, 0.7938,\n",
              "        0.5831, 0.5702, 0.6096, 0.5836], grad_fn=<SqueezeBackward1>)"
            ]
          },
          "metadata": {},
          "execution_count": 34
        }
      ],
      "source": [
        "new_pred.squeeze(1).squeeze(1)"
      ]
    },
    {
      "cell_type": "code",
      "source": [
        "loss_function(new_pred.squeeze(1),torch.Tensor(test_set.iloc[:,-1].values).unsqueeze(1))"
      ],
      "metadata": {
        "colab": {
          "base_uri": "https://localhost:8080/"
        },
        "id": "c5Bi1QtmOKF8",
        "outputId": "cf2b6b39-2cf6-4759-d34d-617be53acdd7"
      },
      "execution_count": 35,
      "outputs": [
        {
          "output_type": "execute_result",
          "data": {
            "text/plain": [
              "tensor(0.0374, grad_fn=<SqrtBackward0>)"
            ]
          },
          "metadata": {},
          "execution_count": 35
        }
      ]
    },
    {
      "cell_type": "code",
      "source": [
        "r2_score(new_pred.squeeze(1).detach().numpy(),test_set.iloc[:,-1].values)"
      ],
      "metadata": {
        "colab": {
          "base_uri": "https://localhost:8080/"
        },
        "id": "Y1rBfmSjOQd-",
        "outputId": "97aa7110-a82c-420a-e610-40e4f1800b19"
      },
      "execution_count": 37,
      "outputs": [
        {
          "output_type": "execute_result",
          "data": {
            "text/plain": [
              "0.7099658147860815"
            ]
          },
          "metadata": {},
          "execution_count": 37
        }
      ]
    },
    {
      "cell_type": "code",
      "source": [
        "#(E=20,m=150) task 2\n",
        "task3_set = test_set.iloc[:,0:24]\n",
        "fixed = torch.Tensor(task3_set.iloc[:,0:4].values)\n",
        "sequence = torch.Tensor(task3_set.iloc[:,-5:].values)\n",
        "model.eval()\n",
        "for i in range(21,151):\n",
        "    new_pred = model(torch.cat((fixed.unsqueeze(1),sequence.unsqueeze(1)),dim = 2))\n",
        "    sequence = torch.cat((sequence[:,1:],new_pred.squeeze(2)),dim = 1)"
      ],
      "metadata": {
        "id": "2wXQnk6jOQjX"
      },
      "execution_count": 48,
      "outputs": []
    },
    {
      "cell_type": "code",
      "source": [
        "new_pred.squeeze(1).squeeze(1)"
      ],
      "metadata": {
        "colab": {
          "base_uri": "https://localhost:8080/"
        },
        "id": "ZacYzJq4QuNQ",
        "outputId": "0e734961-5a57-4cb4-f03b-50608d610b2b"
      },
      "execution_count": 49,
      "outputs": [
        {
          "output_type": "execute_result",
          "data": {
            "text/plain": [
              "tensor([0.7314, 0.7441, 0.6940, 0.7279, 0.7425, 0.6576, 0.7085, 0.7338, 0.6507,\n",
              "        0.6918, 0.7242, 0.6171, 0.6679, 0.7065, 0.6822, 0.7194, 0.7348, 0.6567,\n",
              "        0.7188, 0.7353, 0.5808, 0.7199, 0.5838, 0.6542, 0.7224, 0.7386, 0.7622,\n",
              "        0.7229, 0.7391, 0.7692, 0.7186, 0.7406, 0.7873, 0.7184, 0.7415, 0.7901,\n",
              "        0.7191, 0.7438, 0.7918, 0.7162, 0.7446, 0.7928, 0.5112, 0.7419, 0.7938,\n",
              "        0.5831, 0.5702, 0.6097, 0.5836], grad_fn=<SqueezeBackward1>)"
            ]
          },
          "metadata": {},
          "execution_count": 49
        }
      ]
    },
    {
      "cell_type": "code",
      "source": [
        "print(test_set.iloc[:,-1].values)#, new_pred.transpose()"
      ],
      "metadata": {
        "colab": {
          "base_uri": "https://localhost:8080/"
        },
        "id": "OcMBFJLGOQlq",
        "outputId": "b638025d-90d2-4d3b-b195-cfb57b8507e2"
      },
      "execution_count": 50,
      "outputs": [
        {
          "output_type": "stream",
          "name": "stdout",
          "text": [
            "[0.7308 0.7304 0.686  0.7098 0.7171 0.6559 0.6882 0.7168 0.644  0.6717\n",
            " 0.6993 0.609  0.6638 0.7121 0.6486 0.7061 0.7367 0.6096 0.7003 0.7233\n",
            " 0.5712 0.7147 0.5914 0.6124 0.6924 0.7518 0.7756 0.6809 0.7509 0.781\n",
            " 0.6404 0.763  0.7825 0.6269 0.7568 0.7859 0.6031 0.7474 0.7809 0.6034\n",
            " 0.7005 0.7755 0.6209 0.7548 0.7784 0.588  0.5451 0.6305 0.6359]\n"
          ]
        }
      ]
    },
    {
      "cell_type": "code",
      "source": [
        "loss_function(new_pred.squeeze(1),torch.Tensor(test_set.iloc[:,-1].values).unsqueeze(1))"
      ],
      "metadata": {
        "colab": {
          "base_uri": "https://localhost:8080/"
        },
        "id": "xyl4e9JKQy-t",
        "outputId": "9cc993a2-e8ea-4028-ac31-f6dccfbcd7ce"
      },
      "execution_count": 51,
      "outputs": [
        {
          "output_type": "execute_result",
          "data": {
            "text/plain": [
              "tensor(0.0384, grad_fn=<SqrtBackward0>)"
            ]
          },
          "metadata": {},
          "execution_count": 51
        }
      ]
    },
    {
      "cell_type": "code",
      "source": [
        "r2_score(new_pred.squeeze(1).detach().numpy(),test_set.iloc[:,-1].values)"
      ],
      "metadata": {
        "colab": {
          "base_uri": "https://localhost:8080/"
        },
        "id": "bFY6A9vgQz4D",
        "outputId": "42a502c7-ccc4-4d03-b7c6-7ad9f9836e7c"
      },
      "execution_count": 52,
      "outputs": [
        {
          "output_type": "execute_result",
          "data": {
            "text/plain": [
              "0.6505801185198283"
            ]
          },
          "metadata": {},
          "execution_count": 52
        }
      ]
    },
    {
      "cell_type": "code",
      "source": [],
      "metadata": {
        "id": "8aRblK9MQ4us"
      },
      "execution_count": null,
      "outputs": []
    },
    {
      "cell_type": "code",
      "source": [
        "#(E=30,m=150) task 2\n",
        "task4_set = test_set.iloc[:,0:34]\n",
        "fixed = torch.Tensor(task4_set.iloc[:,0:4].values)\n",
        "sequence = torch.Tensor(task4_set.iloc[:,-5:].values)\n",
        "model.eval()\n",
        "with torch.no_grad():\n",
        "  for i in range(31,151):\n",
        "      new_pred = model(torch.cat((fixed.unsqueeze(1),sequence.unsqueeze(1)),dim = 2))\n",
        "      sequence = torch.cat((sequence[:,1:],new_pred.squeeze(2)),dim = 1)"
      ],
      "metadata": {
        "id": "Wm27t7YGQ45x"
      },
      "execution_count": 71,
      "outputs": []
    },
    {
      "cell_type": "code",
      "source": [
        "new_pred.squeeze(1).squeeze(1)"
      ],
      "metadata": {
        "colab": {
          "base_uri": "https://localhost:8080/"
        },
        "id": "uKQ69nd7TNOx",
        "outputId": "51126976-ddd8-4fb9-aa13-e1789f694a3e"
      },
      "execution_count": 72,
      "outputs": [
        {
          "output_type": "execute_result",
          "data": {
            "text/plain": [
              "tensor([0.7314, 0.7441, 0.6940, 0.7278, 0.7425, 0.6576, 0.7084, 0.7338, 0.6507,\n",
              "        0.6918, 0.7242, 0.6171, 0.6679, 0.7065, 0.6897, 0.7196, 0.7348, 0.6439,\n",
              "        0.7187, 0.7353, 0.5808, 0.7201, 0.5784, 0.6631, 0.7221, 0.7386, 0.7622,\n",
              "        0.7233, 0.7391, 0.7692, 0.7169, 0.7406, 0.7873, 0.7167, 0.7415, 0.7901,\n",
              "        0.7163, 0.7438, 0.7918, 0.7148, 0.7446, 0.7928, 0.5141, 0.7419, 0.7938,\n",
              "        0.5831, 0.5702, 0.6097, 0.5836])"
            ]
          },
          "metadata": {},
          "execution_count": 72
        }
      ]
    },
    {
      "cell_type": "code",
      "source": [
        "print(test_set.iloc[:,-1].values)#, new_pred.transpose()"
      ],
      "metadata": {
        "colab": {
          "base_uri": "https://localhost:8080/"
        },
        "id": "0J9OlZXbTNVQ",
        "outputId": "0520711c-e6f6-45b0-e7d3-2d3474bc68c1"
      },
      "execution_count": 73,
      "outputs": [
        {
          "output_type": "stream",
          "name": "stdout",
          "text": [
            "[0.7308 0.7304 0.686  0.7098 0.7171 0.6559 0.6882 0.7168 0.644  0.6717\n",
            " 0.6993 0.609  0.6638 0.7121 0.6486 0.7061 0.7367 0.6096 0.7003 0.7233\n",
            " 0.5712 0.7147 0.5914 0.6124 0.6924 0.7518 0.7756 0.6809 0.7509 0.781\n",
            " 0.6404 0.763  0.7825 0.6269 0.7568 0.7859 0.6031 0.7474 0.7809 0.6034\n",
            " 0.7005 0.7755 0.6209 0.7548 0.7784 0.588  0.5451 0.6305 0.6359]\n"
          ]
        }
      ]
    },
    {
      "cell_type": "code",
      "source": [
        "loss_function(new_pred.squeeze(1),torch.Tensor(test_set.iloc[:,-1].values).unsqueeze(1))"
      ],
      "metadata": {
        "colab": {
          "base_uri": "https://localhost:8080/"
        },
        "id": "m6emnrJ_TRxe",
        "outputId": "52d58bd1-a426-4561-f768-0cb7eaaf4fd2"
      },
      "execution_count": 74,
      "outputs": [
        {
          "output_type": "execute_result",
          "data": {
            "text/plain": [
              "tensor(0.0380)"
            ]
          },
          "metadata": {},
          "execution_count": 74
        }
      ]
    },
    {
      "cell_type": "code",
      "source": [
        "r2_score(new_pred.squeeze(1).detach().numpy(),test_set.iloc[:,-1].values)"
      ],
      "metadata": {
        "colab": {
          "base_uri": "https://localhost:8080/"
        },
        "id": "7wyq86MTTUr8",
        "outputId": "af4d8d98-9d56-4b96-b60a-297d2035fd3f"
      },
      "execution_count": 75,
      "outputs": [
        {
          "output_type": "execute_result",
          "data": {
            "text/plain": [
              "0.6591991560053401"
            ]
          },
          "metadata": {},
          "execution_count": 75
        }
      ]
    },
    {
      "cell_type": "code",
      "source": [],
      "metadata": {
        "id": "sCDTZWFmTjEX"
      },
      "execution_count": null,
      "outputs": []
    },
    {
      "cell_type": "code",
      "source": [
        "#(E=60,m=150) task 2\n",
        "task5_set = test_set.iloc[:,0:64]\n",
        "fixed = torch.Tensor(task5_set.iloc[:,0:4].values)\n",
        "sequence = torch.Tensor(task5_set.iloc[:,-5:].values)\n",
        "model.eval()\n",
        "with torch.no_grad():\n",
        "  for i in range(61,151):\n",
        "      new_pred = model(torch.cat((fixed.unsqueeze(1),sequence.unsqueeze(1)),dim = 2))\n",
        "      sequence = torch.cat((sequence[:,1:],new_pred.squeeze(2)),dim = 1)"
      ],
      "metadata": {
        "id": "sgK_MJloTlh5"
      },
      "execution_count": 76,
      "outputs": []
    },
    {
      "cell_type": "code",
      "source": [
        "new_pred.squeeze(1).squeeze(1)"
      ],
      "metadata": {
        "colab": {
          "base_uri": "https://localhost:8080/"
        },
        "id": "TH_tWjbATzGO",
        "outputId": "e7127771-3286-466e-945f-faf943405cba"
      },
      "execution_count": 77,
      "outputs": [
        {
          "output_type": "execute_result",
          "data": {
            "text/plain": [
              "tensor([0.7313, 0.7441, 0.6941, 0.7276, 0.7424, 0.6576, 0.7079, 0.7338, 0.6507,\n",
              "        0.6918, 0.7241, 0.6171, 0.6679, 0.7065, 0.6864, 0.7187, 0.7348, 0.6539,\n",
              "        0.7172, 0.7352, 0.5808, 0.7208, 0.5984, 0.6575, 0.7197, 0.7386, 0.7622,\n",
              "        0.7207, 0.7391, 0.7692, 0.7020, 0.7406, 0.7873, 0.7067, 0.7415, 0.7901,\n",
              "        0.7014, 0.7438, 0.7918, 0.6979, 0.7446, 0.7928, 0.5236, 0.7419, 0.7938,\n",
              "        0.5831, 0.5702, 0.6098, 0.5836])"
            ]
          },
          "metadata": {},
          "execution_count": 77
        }
      ]
    },
    {
      "cell_type": "code",
      "source": [
        "print(test_set.iloc[:,-1].values)#, new_pred.transpose()"
      ],
      "metadata": {
        "colab": {
          "base_uri": "https://localhost:8080/"
        },
        "id": "QueCf-EbTzSR",
        "outputId": "3f3551a7-2a01-480b-be44-2e56649200d5"
      },
      "execution_count": 78,
      "outputs": [
        {
          "output_type": "stream",
          "name": "stdout",
          "text": [
            "[0.7308 0.7304 0.686  0.7098 0.7171 0.6559 0.6882 0.7168 0.644  0.6717\n",
            " 0.6993 0.609  0.6638 0.7121 0.6486 0.7061 0.7367 0.6096 0.7003 0.7233\n",
            " 0.5712 0.7147 0.5914 0.6124 0.6924 0.7518 0.7756 0.6809 0.7509 0.781\n",
            " 0.6404 0.763  0.7825 0.6269 0.7568 0.7859 0.6031 0.7474 0.7809 0.6034\n",
            " 0.7005 0.7755 0.6209 0.7548 0.7784 0.588  0.5451 0.6305 0.6359]\n"
          ]
        }
      ]
    },
    {
      "cell_type": "code",
      "source": [
        "loss_function(new_pred.squeeze(1),torch.Tensor(test_set.iloc[:,-1].values).unsqueeze(1))"
      ],
      "metadata": {
        "colab": {
          "base_uri": "https://localhost:8080/"
        },
        "id": "uhge6irRTzYq",
        "outputId": "d68f49cb-29b6-476f-80dd-1010d4784044"
      },
      "execution_count": 79,
      "outputs": [
        {
          "output_type": "execute_result",
          "data": {
            "text/plain": [
              "tensor(0.0343)"
            ]
          },
          "metadata": {},
          "execution_count": 79
        }
      ]
    },
    {
      "cell_type": "code",
      "source": [
        "r2_score(new_pred.squeeze(1).detach().numpy(),test_set.iloc[:,-1].values)"
      ],
      "metadata": {
        "colab": {
          "base_uri": "https://localhost:8080/"
        },
        "id": "dKAvza7PT4IA",
        "outputId": "e3fef024-3b7c-47d8-8e32-2ae973d61afb"
      },
      "execution_count": 80,
      "outputs": [
        {
          "output_type": "execute_result",
          "data": {
            "text/plain": [
              "0.7081005464148193"
            ]
          },
          "metadata": {},
          "execution_count": 80
        }
      ]
    }
  ],
  "metadata": {
    "kernelspec": {
      "display_name": "Python 3.9.16 ('deeplearning')",
      "language": "python",
      "name": "python3"
    },
    "language_info": {
      "codemirror_mode": {
        "name": "ipython",
        "version": 3
      },
      "file_extension": ".py",
      "mimetype": "text/x-python",
      "name": "python",
      "nbconvert_exporter": "python",
      "pygments_lexer": "ipython3",
      "version": "3.9.16"
    },
    "orig_nbformat": 4,
    "vscode": {
      "interpreter": {
        "hash": "312990c4b71a11eb6c4af0bbebc69cd0b659ca46a4f3d5832e34d78e20d2ceae"
      }
    },
    "colab": {
      "provenance": []
    }
  },
  "nbformat": 4,
  "nbformat_minor": 0
}